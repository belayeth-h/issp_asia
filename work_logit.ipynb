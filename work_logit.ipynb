{
 "cells": [
  {
   "cell_type": "markdown",
   "metadata": {
    "id": "5YSqT0GcZ2s6"
   },
   "source": [
    "# **Social dimensions of work value and subjective health of working people: Evidence from ISSP surveys in six Asian countries**\n"
   ]
  },
  {
   "cell_type": "code",
   "execution_count": 1,
   "metadata": {
    "colab": {
     "base_uri": "https://localhost:8080/"
    },
    "id": "Tjy-OzCWaH3q",
    "outputId": "5bd45f8c-dc40-4f38-f5fc-be2d110694b2"
   },
   "outputs": [],
   "source": [
    "import pandas as pd\n",
    "import numpy as np\n",
    "from statsmodels.formula.api import ols\n",
    "from statsmodels.formula.api import logit\n",
    "import seaborn as sns\n",
    "import matplotlib.pyplot as plt"
   ]
  },
  {
   "cell_type": "code",
   "execution_count": 2,
   "metadata": {
    "id": "qnPjaky0bKiF"
   },
   "outputs": [],
   "source": [
    "df = pd.read_csv(\"issp_log.csv\", sep = \",\")"
   ]
  },
  {
   "cell_type": "code",
   "execution_count": 3,
   "metadata": {
    "colab": {
     "base_uri": "https://localhost:8080/"
    },
    "id": "AnReAY1nbxou",
    "outputId": "3ff13ed4-bb9c-4727-86b8-0af1812efba4"
   },
   "outputs": [
    {
     "name": "stdout",
     "output_type": "stream",
     "text": [
      "<class 'pandas.core.frame.DataFrame'>\n",
      "RangeIndex: 5223 entries, 0 to 5222\n",
      "Data columns (total 33 columns):\n",
      " #   Column         Non-Null Count  Dtype  \n",
      "---  ------         --------------  -----  \n",
      " 0   code           5223 non-null   object \n",
      " 1   country        5223 non-null   object \n",
      " 2   j_satis        5223 non-null   object \n",
      " 3   age            5223 non-null   object \n",
      " 4   wrk_hrs        5223 non-null   object \n",
      " 5   MARITAL        5223 non-null   object \n",
      " 6   wv_1           5223 non-null   object \n",
      " 7   wv_2           5223 non-null   object \n",
      " 8   wv_3           5223 non-null   object \n",
      " 9   wv_4           5223 non-null   object \n",
      " 10  wv_5           5223 non-null   object \n",
      " 11  wv_6           5223 non-null   object \n",
      " 12  wv_7           5223 non-null   object \n",
      " 13  wv_8           5223 non-null   object \n",
      " 14  wv_9           5223 non-null   object \n",
      " 15  health_status  5223 non-null   object \n",
      " 16  gender         5223 non-null   object \n",
      " 17  work_or_not    5223 non-null   object \n",
      " 18  job_ch_1       5223 non-null   object \n",
      " 19  job_ch_2       5223 non-null   object \n",
      " 20  job_ch_3       5223 non-null   object \n",
      " 21  job_ch_4       5223 non-null   object \n",
      " 22  job_ch_5       5223 non-null   object \n",
      " 23  job_ch_6       5223 non-null   object \n",
      " 24  job_ch_7       5223 non-null   object \n",
      " 25  job_ch_8       5223 non-null   object \n",
      " 26  work_mean_9    5223 non-null   object \n",
      " 27  job_mean_8     5223 non-null   object \n",
      " 28  value_mean     5223 non-null   float64\n",
      " 29  ch_mean        5223 non-null   float64\n",
      " 30  age_imp        5223 non-null   float64\n",
      " 31  health_imp     5223 non-null   float64\n",
      " 32  health_binary  5223 non-null   object \n",
      "dtypes: float64(4), object(29)\n",
      "memory usage: 1.3+ MB\n"
     ]
    }
   ],
   "source": [
    "df.info()"
   ]
  },
  {
   "cell_type": "code",
   "execution_count": 4,
   "metadata": {
    "colab": {
     "base_uri": "https://localhost:8080/"
    },
    "id": "NrPw0o7ub13U",
    "outputId": "74c624a4-c375-4817-acc6-945cdbf762e4"
   },
   "outputs": [
    {
     "name": "stdout",
     "output_type": "stream",
     "text": [
      "  country  gender  age_imp  value_mean health_binary\n",
      "0   China    Male     31.0    3.444444      Not Good\n",
      "1   China  Female     34.0    3.666667          Good\n",
      "2   China  Female     45.0    5.000000          Good\n",
      "3   China  Female     38.0    4.666667          Good\n",
      "4   China  Female     59.0    4.444444          Good\n"
     ]
    }
   ],
   "source": [
    "#assigning selected working variables\n",
    "selected = [\"country\", \"gender\", \"age_imp\", \n",
    "                        \"value_mean\", \"health_binary\"]\n",
    "\n",
    "issp_logit = df[selected]\n",
    "print(issp_logit.head())"
   ]
  },
  {
   "cell_type": "code",
   "execution_count": 7,
   "metadata": {
    "colab": {
     "base_uri": "https://localhost:8080/"
    },
    "id": "K0ghaEAicwAC",
    "outputId": "7e484599-0b02-4c21-eb0b-e56cd734bffc"
   },
   "outputs": [
    {
     "data": {
      "text/plain": [
       "Good        3506\n",
       "Not Good    1697\n",
       "              20\n",
       "Name: health_binary, dtype: int64"
      ]
     },
     "execution_count": 7,
     "metadata": {
      "tags": []
     },
     "output_type": "execute_result"
    }
   ],
   "source": [
    "issp_logit[\"health_binary\"].value_counts()"
   ]
  },
  {
   "cell_type": "code",
   "execution_count": 5,
   "metadata": {
    "colab": {
     "base_uri": "https://localhost:8080/"
    },
    "id": "nViriBWlkKfA",
    "outputId": "64e41f8e-ce3d-44ac-9491-a10a924ab587"
   },
   "outputs": [
    {
     "name": "stderr",
     "output_type": "stream",
     "text": [
      "/opt/anaconda3/lib/python3.8/site-packages/pandas/core/frame.py:4166: SettingWithCopyWarning: \n",
      "A value is trying to be set on a copy of a slice from a DataFrame\n",
      "\n",
      "See the caveats in the documentation: https://pandas.pydata.org/pandas-docs/stable/user_guide/indexing.html#returning-a-view-versus-a-copy\n",
      "  return super().replace(\n"
     ]
    }
   ],
   "source": [
    "#Replacing NaN into missing (\"\") cells\n",
    "issp_logit.replace(\" \", np.nan, inplace = True)"
   ]
  },
  {
   "cell_type": "code",
   "execution_count": 8,
   "metadata": {
    "colab": {
     "base_uri": "https://localhost:8080/"
    },
    "id": "7cKnvPrVkOxd",
    "outputId": "806be430-5195-4c59-c1af-f1cd20a5f0b1"
   },
   "outputs": [
    {
     "data": {
      "text/plain": [
       "country           0\n",
       "gender            0\n",
       "age_imp           0\n",
       "value_mean        0\n",
       "health_binary    20\n",
       "dtype: int64"
      ]
     },
     "execution_count": 8,
     "metadata": {},
     "output_type": "execute_result"
    }
   ],
   "source": [
    "#To see how many NaN cells are there\n",
    "issp_logit.isnull().sum()"
   ]
  },
  {
   "cell_type": "code",
   "execution_count": 6,
   "metadata": {
    "colab": {
     "base_uri": "https://localhost:8080/"
    },
    "id": "At_nbgkRmFMA",
    "outputId": "5e42a243-5d00-45f2-8712-689baf6b94d2"
   },
   "outputs": [
    {
     "data": {
      "text/plain": [
       "0       Not Good\n",
       "1           Good\n",
       "2           Good\n",
       "3           Good\n",
       "4           Good\n",
       "          ...   \n",
       "5218        Good\n",
       "5219    Not Good\n",
       "5220        Good\n",
       "5221    Not Good\n",
       "5222        Good\n",
       "Name: health_binary, Length: 5223, dtype: object"
      ]
     },
     "execution_count": 6,
     "metadata": {},
     "output_type": "execute_result"
    }
   ],
   "source": [
    "#To see the condition of response variable which is in binary form\n",
    "issp_logit[\"health_binary\"]"
   ]
  },
  {
   "cell_type": "code",
   "execution_count": 9,
   "metadata": {
    "colab": {
     "base_uri": "https://localhost:8080/"
    },
    "id": "WsYO8mJ5mLSc",
    "outputId": "1e5c6ba1-d74c-4760-b98c-15a9c10973f0"
   },
   "outputs": [
    {
     "name": "stderr",
     "output_type": "stream",
     "text": [
      "<ipython-input-9-f4d6677296c5>:2: SettingWithCopyWarning: \n",
      "A value is trying to be set on a copy of a slice from a DataFrame.\n",
      "Try using .loc[row_indexer,col_indexer] = value instead\n",
      "\n",
      "See the caveats in the documentation: https://pandas.pydata.org/pandas-docs/stable/user_guide/indexing.html#returning-a-view-versus-a-copy\n",
      "  issp_logit[\"health_binary\"] = issp_logit[\"health_binary\"].astype('category')\n"
     ]
    }
   ],
   "source": [
    "#To convert response object variable type to category type response variable\n",
    "issp_logit[\"health_binary\"] = issp_logit[\"health_binary\"].astype('category')"
   ]
  },
  {
   "cell_type": "code",
   "execution_count": 10,
   "metadata": {
    "colab": {
     "base_uri": "https://localhost:8080/"
    },
    "id": "DGRVqeGqmYQk",
    "outputId": "89b4ba7d-0a17-4455-ad75-4a86addb9e7b"
   },
   "outputs": [
    {
     "data": {
      "text/plain": [
       "0       Not Good\n",
       "1           Good\n",
       "2           Good\n",
       "3           Good\n",
       "4           Good\n",
       "          ...   \n",
       "5218        Good\n",
       "5219    Not Good\n",
       "5220        Good\n",
       "5221    Not Good\n",
       "5222        Good\n",
       "Name: health_binary, Length: 5223, dtype: category\n",
       "Categories (2, object): [Good, Not Good]"
      ]
     },
     "execution_count": 10,
     "metadata": {},
     "output_type": "execute_result"
    }
   ],
   "source": [
    "issp_logit[\"health_binary\"]"
   ]
  },
  {
   "cell_type": "code",
   "execution_count": 11,
   "metadata": {
    "colab": {
     "base_uri": "https://localhost:8080/"
    },
    "id": "3aJ2M6hpmd2z",
    "outputId": "5f139ef9-dec5-4252-905d-15542cb666ce"
   },
   "outputs": [
    {
     "data": {
      "text/plain": [
       "Good        3506\n",
       "Not Good    1697\n",
       "Name: health_binary, dtype: int64"
      ]
     },
     "execution_count": 11,
     "metadata": {},
     "output_type": "execute_result"
    }
   ],
   "source": [
    "issp_logit[\"health_binary\"].value_counts()"
   ]
  },
  {
   "cell_type": "code",
   "execution_count": 12,
   "metadata": {
    "colab": {
     "base_uri": "https://localhost:8080/"
    },
    "id": "AfncPMpSmmgS",
    "outputId": "592dbc11-59e5-45af-bbcc-e55bcb259f28"
   },
   "outputs": [
    {
     "data": {
      "text/plain": [
       "0       Not Good\n",
       "1           Good\n",
       "2           Good\n",
       "3           Good\n",
       "4           Good\n",
       "          ...   \n",
       "5218        Good\n",
       "5219    Not Good\n",
       "5220        Good\n",
       "5221    Not Good\n",
       "5222        Good\n",
       "Name: health_binary, Length: 5223, dtype: category\n",
       "Categories (2, object): [Good, Not Good]"
      ]
     },
     "execution_count": 12,
     "metadata": {},
     "output_type": "execute_result"
    }
   ],
   "source": [
    "issp_logit[\"health_binary\"]"
   ]
  },
  {
   "cell_type": "code",
   "execution_count": 15,
   "metadata": {
    "colab": {
     "base_uri": "https://localhost:8080/"
    },
    "id": "4oRndTEfn8GU",
    "outputId": "3217b4dc-e4b0-48eb-e9d6-7a1cf086f879"
   },
   "outputs": [
    {
     "name": "stderr",
     "output_type": "stream",
     "text": [
      "/usr/local/lib/python3.6/dist-packages/pandas/core/frame.py:4389: SettingWithCopyWarning: \n",
      "A value is trying to be set on a copy of a slice from a DataFrame\n",
      "\n",
      "See the caveats in the documentation: https://pandas.pydata.org/pandas-docs/stable/user_guide/indexing.html#returning-a-view-versus-a-copy\n",
      "  method=method,\n"
     ]
    }
   ],
   "source": [
    "issp_logit.replace(\" \", np.nan, inplace = True)"
   ]
  },
  {
   "cell_type": "code",
   "execution_count": 16,
   "metadata": {
    "colab": {
     "base_uri": "https://localhost:8080/"
    },
    "id": "mjqs5VHTodOM",
    "outputId": "22c1bbb2-f0ff-461c-b132-96de500fb7d6"
   },
   "outputs": [
    {
     "data": {
      "text/plain": [
       "Good        3506\n",
       "Not Good    1697\n",
       "Name: health_binary, dtype: int64"
      ]
     },
     "execution_count": 16,
     "metadata": {
      "tags": []
     },
     "output_type": "execute_result"
    }
   ],
   "source": [
    "issp_logit[\"health_binary\"].value_counts()"
   ]
  },
  {
   "cell_type": "code",
   "execution_count": 13,
   "metadata": {
    "colab": {
     "base_uri": "https://localhost:8080/"
    },
    "id": "DpCo076xoiQi",
    "outputId": "357a2990-06b3-41e3-98ce-a17dbb743f2e"
   },
   "outputs": [
    {
     "name": "stdout",
     "output_type": "stream",
     "text": [
      "     country  gender  age_imp  value_mean health_binary\n",
      "5173  Taiwan  Female     40.0    4.666667          Good\n",
      "5174  Taiwan  Female     31.0    3.777778      Not Good\n",
      "5175  Taiwan  Female     22.0    3.777778          Good\n",
      "5176  Taiwan  Female     38.0    3.666667          Good\n",
      "5177  Taiwan  Female     25.0    3.888889      Not Good\n",
      "5178  Taiwan    Male     23.0    3.222222          Good\n",
      "5179  Taiwan  Female     33.0    3.555556      Not Good\n",
      "5180  Taiwan  Female     49.0    3.444444      Not Good\n",
      "5181  Taiwan    Male     29.0    3.777778          Good\n",
      "5182  Taiwan    Male     54.0    3.888889      Not Good\n",
      "5183  Taiwan  Female     35.0    4.000000          Good\n",
      "5184  Taiwan    Male     67.0    4.000000      Not Good\n",
      "5185  Taiwan  Female     20.0    3.777778          Good\n",
      "5186  Taiwan  Female     32.0    4.666667          Good\n",
      "5187  Taiwan    Male     48.0    3.666667          Good\n",
      "5188  Taiwan    Male     64.0    4.222222      Not Good\n",
      "5189  Taiwan    Male     39.0    4.222222          Good\n",
      "5190  Taiwan  Female     30.0    4.777778          Good\n",
      "5191  Taiwan  Female     61.0    5.000000      Not Good\n",
      "5192  Taiwan    Male     42.0    3.777778          Good\n",
      "5193  Taiwan  Female     52.0    4.333333      Not Good\n",
      "5194  Taiwan    Male     58.0    3.888889      Not Good\n",
      "5195  Taiwan    Male     64.0    4.333333          Good\n",
      "5196  Taiwan    Male     39.0    3.888889      Not Good\n",
      "5197  Taiwan  Female     41.0    4.666667          Good\n",
      "5198  Taiwan    Male     31.0    4.555556          Good\n",
      "5199  Taiwan    Male     35.0    4.555556          Good\n",
      "5200  Taiwan    Male     43.0    3.222222      Not Good\n",
      "5201  Taiwan    Male     39.0    3.777778          Good\n",
      "5202  Taiwan  Female     35.0    3.777778      Not Good\n",
      "5203  Taiwan    Male     20.0    4.444444          Good\n",
      "5204  Taiwan    Male     33.0    3.888889      Not Good\n",
      "5205  Taiwan    Male     36.0    4.555556          Good\n",
      "5206  Taiwan  Female     52.0    4.666667      Not Good\n",
      "5207  Taiwan    Male     31.0    5.000000      Not Good\n",
      "5208  Taiwan    Male     33.0    4.333333          Good\n",
      "5209  Taiwan  Female     25.0    4.000000      Not Good\n",
      "5210  Taiwan    Male     23.0    3.666667          Good\n",
      "5211  Taiwan    Male     34.0    4.333333          Good\n",
      "5212  Taiwan    Male     52.0    4.222222      Not Good\n",
      "5213  Taiwan    Male     43.0    4.222222          Good\n",
      "5214  Taiwan    Male     21.0    3.777778          Good\n",
      "5215  Taiwan    Male     49.0    3.777778      Not Good\n",
      "5216  Taiwan  Female     55.0    3.978426      Not Good\n",
      "5217  Taiwan  Female     27.0    3.888889          Good\n",
      "5218  Taiwan    Male     31.0    3.333333          Good\n",
      "5219  Taiwan    Male     28.0    4.222222      Not Good\n",
      "5220  Taiwan    Male     55.0    4.222222          Good\n",
      "5221  Taiwan  Female     19.0    4.222222      Not Good\n",
      "5222  Taiwan    Male     39.0    3.888889          Good\n"
     ]
    }
   ],
   "source": [
    "print(issp_logit.tail(50))"
   ]
  },
  {
   "cell_type": "code",
   "execution_count": null,
   "metadata": {
    "id": "x4JvMVK3sDH6"
   },
   "outputs": [],
   "source": [
    "####Best option to find which cells have NaN values. I used this function to find missing cells"
   ]
  },
  {
   "cell_type": "code",
   "execution_count": 14,
   "metadata": {
    "colab": {
     "base_uri": "https://localhost:8080/",
     "height": 669
    },
    "id": "fSgcnR2erCVo",
    "outputId": "e79c5297-e16a-4cbe-8ecd-f726a40c7a99"
   },
   "outputs": [
    {
     "data": {
      "text/html": [
       "<div>\n",
       "<style scoped>\n",
       "    .dataframe tbody tr th:only-of-type {\n",
       "        vertical-align: middle;\n",
       "    }\n",
       "\n",
       "    .dataframe tbody tr th {\n",
       "        vertical-align: top;\n",
       "    }\n",
       "\n",
       "    .dataframe thead th {\n",
       "        text-align: right;\n",
       "    }\n",
       "</style>\n",
       "<table border=\"1\" class=\"dataframe\">\n",
       "  <thead>\n",
       "    <tr style=\"text-align: right;\">\n",
       "      <th></th>\n",
       "      <th>country</th>\n",
       "      <th>gender</th>\n",
       "      <th>age_imp</th>\n",
       "      <th>value_mean</th>\n",
       "      <th>health_binary</th>\n",
       "    </tr>\n",
       "  </thead>\n",
       "  <tbody>\n",
       "    <tr>\n",
       "      <th>848</th>\n",
       "      <td>Israel</td>\n",
       "      <td>Female</td>\n",
       "      <td>42.000000</td>\n",
       "      <td>3.888889</td>\n",
       "      <td>NaN</td>\n",
       "    </tr>\n",
       "    <tr>\n",
       "      <th>1084</th>\n",
       "      <td>Israel</td>\n",
       "      <td>Male</td>\n",
       "      <td>43.292178</td>\n",
       "      <td>3.000000</td>\n",
       "      <td>NaN</td>\n",
       "    </tr>\n",
       "    <tr>\n",
       "      <th>1472</th>\n",
       "      <td>Israel</td>\n",
       "      <td>Male</td>\n",
       "      <td>40.000000</td>\n",
       "      <td>5.000000</td>\n",
       "      <td>NaN</td>\n",
       "    </tr>\n",
       "    <tr>\n",
       "      <th>1478</th>\n",
       "      <td>Israel</td>\n",
       "      <td>Male</td>\n",
       "      <td>65.000000</td>\n",
       "      <td>4.666667</td>\n",
       "      <td>NaN</td>\n",
       "    </tr>\n",
       "    <tr>\n",
       "      <th>1664</th>\n",
       "      <td>India</td>\n",
       "      <td>Male</td>\n",
       "      <td>54.000000</td>\n",
       "      <td>4.000000</td>\n",
       "      <td>NaN</td>\n",
       "    </tr>\n",
       "    <tr>\n",
       "      <th>1731</th>\n",
       "      <td>India</td>\n",
       "      <td>Female</td>\n",
       "      <td>62.000000</td>\n",
       "      <td>4.000000</td>\n",
       "      <td>NaN</td>\n",
       "    </tr>\n",
       "    <tr>\n",
       "      <th>1732</th>\n",
       "      <td>India</td>\n",
       "      <td>Female</td>\n",
       "      <td>37.000000</td>\n",
       "      <td>4.222222</td>\n",
       "      <td>NaN</td>\n",
       "    </tr>\n",
       "    <tr>\n",
       "      <th>1790</th>\n",
       "      <td>India</td>\n",
       "      <td>Male</td>\n",
       "      <td>27.000000</td>\n",
       "      <td>3.978426</td>\n",
       "      <td>NaN</td>\n",
       "    </tr>\n",
       "    <tr>\n",
       "      <th>1971</th>\n",
       "      <td>India</td>\n",
       "      <td>Female</td>\n",
       "      <td>39.000000</td>\n",
       "      <td>3.555556</td>\n",
       "      <td>NaN</td>\n",
       "    </tr>\n",
       "    <tr>\n",
       "      <th>2080</th>\n",
       "      <td>India</td>\n",
       "      <td>Male</td>\n",
       "      <td>27.000000</td>\n",
       "      <td>3.444444</td>\n",
       "      <td>NaN</td>\n",
       "    </tr>\n",
       "    <tr>\n",
       "      <th>2137</th>\n",
       "      <td>India</td>\n",
       "      <td>Male</td>\n",
       "      <td>45.000000</td>\n",
       "      <td>3.978426</td>\n",
       "      <td>NaN</td>\n",
       "    </tr>\n",
       "    <tr>\n",
       "      <th>2142</th>\n",
       "      <td>India</td>\n",
       "      <td>Male</td>\n",
       "      <td>51.000000</td>\n",
       "      <td>3.000000</td>\n",
       "      <td>NaN</td>\n",
       "    </tr>\n",
       "    <tr>\n",
       "      <th>2225</th>\n",
       "      <td>India</td>\n",
       "      <td>Male</td>\n",
       "      <td>55.000000</td>\n",
       "      <td>3.666667</td>\n",
       "      <td>NaN</td>\n",
       "    </tr>\n",
       "    <tr>\n",
       "      <th>2264</th>\n",
       "      <td>India</td>\n",
       "      <td>Female</td>\n",
       "      <td>25.000000</td>\n",
       "      <td>4.000000</td>\n",
       "      <td>NaN</td>\n",
       "    </tr>\n",
       "    <tr>\n",
       "      <th>2400</th>\n",
       "      <td>Japan</td>\n",
       "      <td>Male</td>\n",
       "      <td>58.000000</td>\n",
       "      <td>3.555556</td>\n",
       "      <td>NaN</td>\n",
       "    </tr>\n",
       "    <tr>\n",
       "      <th>2548</th>\n",
       "      <td>Japan</td>\n",
       "      <td>Female</td>\n",
       "      <td>50.000000</td>\n",
       "      <td>3.444444</td>\n",
       "      <td>NaN</td>\n",
       "    </tr>\n",
       "    <tr>\n",
       "      <th>2766</th>\n",
       "      <td>Japan</td>\n",
       "      <td>Male</td>\n",
       "      <td>81.000000</td>\n",
       "      <td>3.978426</td>\n",
       "      <td>NaN</td>\n",
       "    </tr>\n",
       "    <tr>\n",
       "      <th>2881</th>\n",
       "      <td>Japan</td>\n",
       "      <td>Female</td>\n",
       "      <td>24.000000</td>\n",
       "      <td>3.978426</td>\n",
       "      <td>NaN</td>\n",
       "    </tr>\n",
       "    <tr>\n",
       "      <th>2943</th>\n",
       "      <td>Japan</td>\n",
       "      <td>Female</td>\n",
       "      <td>61.000000</td>\n",
       "      <td>4.000000</td>\n",
       "      <td>NaN</td>\n",
       "    </tr>\n",
       "    <tr>\n",
       "      <th>3049</th>\n",
       "      <td>Japan</td>\n",
       "      <td>Male</td>\n",
       "      <td>30.000000</td>\n",
       "      <td>3.978426</td>\n",
       "      <td>NaN</td>\n",
       "    </tr>\n",
       "  </tbody>\n",
       "</table>\n",
       "</div>"
      ],
      "text/plain": [
       "     country  gender    age_imp  value_mean health_binary\n",
       "848   Israel  Female  42.000000    3.888889           NaN\n",
       "1084  Israel    Male  43.292178    3.000000           NaN\n",
       "1472  Israel    Male  40.000000    5.000000           NaN\n",
       "1478  Israel    Male  65.000000    4.666667           NaN\n",
       "1664   India    Male  54.000000    4.000000           NaN\n",
       "1731   India  Female  62.000000    4.000000           NaN\n",
       "1732   India  Female  37.000000    4.222222           NaN\n",
       "1790   India    Male  27.000000    3.978426           NaN\n",
       "1971   India  Female  39.000000    3.555556           NaN\n",
       "2080   India    Male  27.000000    3.444444           NaN\n",
       "2137   India    Male  45.000000    3.978426           NaN\n",
       "2142   India    Male  51.000000    3.000000           NaN\n",
       "2225   India    Male  55.000000    3.666667           NaN\n",
       "2264   India  Female  25.000000    4.000000           NaN\n",
       "2400   Japan    Male  58.000000    3.555556           NaN\n",
       "2548   Japan  Female  50.000000    3.444444           NaN\n",
       "2766   Japan    Male  81.000000    3.978426           NaN\n",
       "2881   Japan  Female  24.000000    3.978426           NaN\n",
       "2943   Japan  Female  61.000000    4.000000           NaN\n",
       "3049   Japan    Male  30.000000    3.978426           NaN"
      ]
     },
     "execution_count": 14,
     "metadata": {},
     "output_type": "execute_result"
    }
   ],
   "source": [
    "issp_logit.loc[issp_logit.isnull().any(axis=1)]"
   ]
  },
  {
   "cell_type": "code",
   "execution_count": 15,
   "metadata": {
    "colab": {
     "base_uri": "https://localhost:8080/",
     "height": 319
    },
    "id": "KC7GLt-muVWn",
    "outputId": "fd8eefe8-e520-47c7-e1ec-aa37d2477e10"
   },
   "outputs": [
    {
     "data": {
      "text/plain": [
       "<matplotlib.axes._subplots.AxesSubplot at 0x11a9de8e0>"
      ]
     },
     "execution_count": 15,
     "metadata": {},
     "output_type": "execute_result"
    },
    {
     "data": {
      "image/png": "[encoded data removed]",
      "text/plain": [
       "<Figure size 432x288 with 1 Axes>"
      ]
     },
     "metadata": {
      "needs_background": "light"
     },
     "output_type": "display_data"
    }
   ],
   "source": [
    "#Bar plot before fixing NaN cells\n",
    "issp_logit[\"health_binary\"].value_counts().plot.bar()"
   ]
  },
  {
   "cell_type": "code",
   "execution_count": 16,
   "metadata": {
    "colab": {
     "base_uri": "https://localhost:8080/"
    },
    "id": "eShl8wabulrV",
    "outputId": "b3e402ac-9d9f-4849-dbfa-6759b33aa117"
   },
   "outputs": [
    {
     "name": "stderr",
     "output_type": "stream",
     "text": [
      "/opt/anaconda3/lib/python3.8/site-packages/pandas/core/generic.py:6245: SettingWithCopyWarning: \n",
      "A value is trying to be set on a copy of a slice from a DataFrame\n",
      "\n",
      "See the caveats in the documentation: https://pandas.pydata.org/pandas-docs/stable/user_guide/indexing.html#returning-a-view-versus-a-copy\n",
      "  self._update_inplace(new_data)\n"
     ]
    }
   ],
   "source": [
    "##Now, we will impute NaN values with \"Good\", because Good has maximum cells (mood)\n",
    "issp_logit[\"health_binary\"].fillna(\"Good\", inplace=True)"
   ]
  },
  {
   "cell_type": "code",
   "execution_count": 18,
   "metadata": {
    "colab": {
     "base_uri": "https://localhost:8080/"
    },
    "id": "Q-SMMMUkvPKC",
    "outputId": "ddd64dac-346c-45ae-93dc-ad9836edf7da"
   },
   "outputs": [
    {
     "data": {
      "text/plain": [
       "0"
      ]
     },
     "execution_count": 18,
     "metadata": {},
     "output_type": "execute_result"
    }
   ],
   "source": [
    "#To check if there is anymore missing cells (NaN)\n",
    "issp_logit['health_binary'].isnull().sum()"
   ]
  },
  {
   "cell_type": "code",
   "execution_count": null,
   "metadata": {
    "id": "q_fu8AEpvbmp"
   },
   "outputs": [],
   "source": [
    "##Now, we see in the above cell that we do not have any missing value (NaN) in health_binary"
   ]
  },
  {
   "cell_type": "code",
   "execution_count": 20,
   "metadata": {
    "colab": {
     "base_uri": "https://localhost:8080/",
     "height": 319
    },
    "id": "y7_JdsEMvlZa",
    "outputId": "b1e6d00f-e572-470a-cd41-362e79164e8e"
   },
   "outputs": [
    {
     "data": {
      "text/plain": [
       "<matplotlib.axes._subplots.AxesSubplot at 0x11afaa3d0>"
      ]
     },
     "execution_count": 20,
     "metadata": {},
     "output_type": "execute_result"
    },
    {
     "data": {
      "image/png": "[encoded data removed]",
      "text/plain": [
       "<Figure size 432x288 with 1 Axes>"
      ]
     },
     "metadata": {
      "needs_background": "light"
     },
     "output_type": "display_data"
    }
   ],
   "source": [
    "issp_logit[\"health_binary\"].value_counts().plot.bar()"
   ]
  },
  {
   "cell_type": "markdown",
   "metadata": {
    "id": "dlQHp8OPvyEs"
   },
   "source": [
    "**To create dummies for health_binary variable. This creates two separate variables**\n",
    "\n",
    " "
   ]
  },
  {
   "cell_type": "code",
   "execution_count": 21,
   "metadata": {
    "id": "GDLZaQvAxAH8"
   },
   "outputs": [],
   "source": [
    "issp_logit = pd.get_dummies(issp_logit, columns=['health_binary'])"
   ]
  },
  {
   "cell_type": "code",
   "execution_count": 22,
   "metadata": {
    "colab": {
     "base_uri": "https://localhost:8080/"
    },
    "id": "AhJbBpK9ygwp",
    "outputId": "85089239-06b1-4e58-abf0-4924252330e1"
   },
   "outputs": [
    {
     "name": "stdout",
     "output_type": "stream",
     "text": [
      "<class 'pandas.core.frame.DataFrame'>\n",
      "RangeIndex: 5223 entries, 0 to 5222\n",
      "Data columns (total 6 columns):\n",
      " #   Column                  Non-Null Count  Dtype  \n",
      "---  ------                  --------------  -----  \n",
      " 0   country                 5223 non-null   object \n",
      " 1   gender                  5223 non-null   object \n",
      " 2   age_imp                 5223 non-null   float64\n",
      " 3   value_mean              5223 non-null   float64\n",
      " 4   health_binary_Good      5223 non-null   uint8  \n",
      " 5   health_binary_Not Good  5223 non-null   uint8  \n",
      "dtypes: float64(2), object(2), uint8(2)\n",
      "memory usage: 173.5+ KB\n"
     ]
    }
   ],
   "source": [
    "#Two new variables from health_binary: health_binary_Good, health_binary_Not Good\n",
    "issp_logit.info()\n"
   ]
  },
  {
   "cell_type": "code",
   "execution_count": 23,
   "metadata": {},
   "outputs": [
    {
     "data": {
      "text/plain": [
       "1    3526\n",
       "0    1697\n",
       "Name: health_binary_Good, dtype: int64"
      ]
     },
     "execution_count": 23,
     "metadata": {},
     "output_type": "execute_result"
    }
   ],
   "source": [
    "issp_logit[\"health_binary_Good\"].value_counts()"
   ]
  },
  {
   "cell_type": "code",
   "execution_count": 26,
   "metadata": {
    "id": "JWPN1C_Av-MJ"
   },
   "outputs": [
    {
     "name": "stdout",
     "output_type": "stream",
     "text": [
      "Optimization terminated successfully.\n",
      "         Current function value: 0.621472\n",
      "         Iterations 5\n",
      "Intercept    -1.53974\n",
      "value_mean    0.57441\n",
      "dtype: float64\n"
     ]
    }
   ],
   "source": [
    "#First model (on all six countries) on work value and health_binary_Good\n",
    "mdl_1 = logit('health_binary_Good~value_mean', data=issp_logit).fit()\n",
    "print(mdl_1.params)"
   ]
  },
  {
   "cell_type": "code",
   "execution_count": 25,
   "metadata": {
    "id": "cheYCKTeGhUW"
   },
   "outputs": [
    {
     "name": "stdout",
     "output_type": "stream",
     "text": [
      "                           Logit Regression Results                           \n",
      "==============================================================================\n",
      "Dep. Variable:     health_binary_Good   No. Observations:                 5223\n",
      "Model:                          Logit   Df Residuals:                     5221\n",
      "Method:                           MLE   Df Model:                            1\n",
      "Date:                Fri, 26 Feb 2021   Pseudo R-squ.:                 0.01434\n",
      "Time:                        01:55:04   Log-Likelihood:                -3246.0\n",
      "converged:                       True   LL-Null:                       -3293.2\n",
      "Covariance Type:            nonrobust   LLR p-value:                 2.508e-22\n",
      "==============================================================================\n",
      "                 coef    std err          z      P>|z|      [0.025      0.975]\n",
      "------------------------------------------------------------------------------\n",
      "Intercept     -1.5397      0.237     -6.496      0.000      -2.004      -1.075\n",
      "value_mean     0.5744      0.060      9.601      0.000       0.457       0.692\n",
      "==============================================================================\n"
     ]
    }
   ],
   "source": [
    "print(mdl_1.summary())"
   ]
  },
  {
   "cell_type": "code",
   "execution_count": 27,
   "metadata": {
    "id": "93Thy0O8LAeu"
   },
   "outputs": [],
   "source": [
    "#Importing statsmodels library as sm\n",
    "import statsmodels.api as sm\n"
   ]
  },
  {
   "cell_type": "code",
   "execution_count": 28,
   "metadata": {
    "id": "ZGyvoLfpR_0x"
   },
   "outputs": [],
   "source": [
    "#To write mdl_1 summary table in text format\n",
    "with open('summary.txt', 'w') as fh:\n",
    "    fh.write(mdl_1.summary().as_text())"
   ]
  },
  {
   "cell_type": "code",
   "execution_count": 29,
   "metadata": {
    "colab": {
     "base_uri": "https://localhost:8080/",
     "height": 280
    },
    "id": "cEje3UcAwo2n",
    "outputId": "40853d2c-bf15-4446-bafa-34180eb89e58"
   },
   "outputs": [
    {
     "data": {
      "image/png": "[encoded data removed]",
      "text/plain": [
       "<Figure size 432x288 with 1 Axes>"
      ]
     },
     "metadata": {
      "needs_background": "light"
     },
     "output_type": "display_data"
    }
   ],
   "source": [
    "#To show regplot (without predicted values)\n",
    "sns.regplot(x=\"value_mean\", y=\"health_binary_Good\", data=issp_logit, ci=None, logistic=True)\n",
    "plt.show()"
   ]
  },
  {
   "cell_type": "code",
   "execution_count": 58,
   "metadata": {
    "colab": {
     "base_uri": "https://localhost:8080/",
     "height": 284
    },
    "id": "iwXugacW0klH",
    "outputId": "17956690-1b72-4738-8cfc-e80f4fa6721e"
   },
   "outputs": [
    {
     "data": {
      "image/png": "[encoded data removed]",
      "text/plain": [
       "<Figure size 432x288 with 1 Axes>"
      ]
     },
     "metadata": {
      "needs_background": "light",
      "tags": []
     },
     "output_type": "display_data"
    }
   ],
   "source": [
    "sns.regplot(x=\"value_mean\", y=\"health_binary_Good\", data=issp_logit, ci=None, logistic=True)\n",
    "plt.xlim(1, 6)\n",
    "plt.ylim(-0.2, 1.2)\n",
    "plt.show()"
   ]
  },
  {
   "cell_type": "markdown",
   "metadata": {
    "id": "o2mMICYd2ePy"
   },
   "source": [
    "**Logistic Regression Prediction to the plot**"
   ]
  },
  {
   "cell_type": "code",
   "execution_count": 32,
   "metadata": {
    "id": "T3wmIs5a3g93"
   },
   "outputs": [],
   "source": [
    "#Arranging explanatory variable (value_mean) in 0.25 intervals in a dataframe\n",
    "explanatory_data = pd.DataFrame({\"value_mean\": np.arange(1,5.25,.25)})"
   ]
  },
  {
   "cell_type": "code",
   "execution_count": 33,
   "metadata": {
    "colab": {
     "base_uri": "https://localhost:8080/",
     "height": 576
    },
    "id": "Oawg6v7_720m",
    "outputId": "7ad43cc1-0f05-4ef0-a85c-4ab7f73977ab"
   },
   "outputs": [
    {
     "name": "stdout",
     "output_type": "stream",
     "text": [
      "    value_mean\n",
      "0         1.00\n",
      "1         1.25\n",
      "2         1.50\n",
      "3         1.75\n",
      "4         2.00\n",
      "5         2.25\n",
      "6         2.50\n",
      "7         2.75\n",
      "8         3.00\n",
      "9         3.25\n",
      "10        3.50\n",
      "11        3.75\n",
      "12        4.00\n",
      "13        4.25\n",
      "14        4.50\n",
      "15        4.75\n",
      "16        5.00\n"
     ]
    }
   ],
   "source": [
    "print(explanatory_data)"
   ]
  },
  {
   "cell_type": "code",
   "execution_count": 36,
   "metadata": {
    "id": "sVp0b953AE-_"
   },
   "outputs": [],
   "source": [
    "##Predicting inside a dataframe using assign function (for health_binary_Good variable)\n",
    "prediction_data=explanatory_data.assign(health_binary_Good=mdl_1.predict(explanatory_data))"
   ]
  },
  {
   "cell_type": "code",
   "execution_count": 37,
   "metadata": {
    "colab": {
     "base_uri": "https://localhost:8080/",
     "height": 576
    },
    "id": "ujW0WTwHAkua",
    "outputId": "ad25aebc-8b64-412a-eca7-9612c7ea0b80"
   },
   "outputs": [
    {
     "name": "stdout",
     "output_type": "stream",
     "text": [
      "    value_mean  health_binary_Good\n",
      "0         1.00            0.275812\n",
      "1         1.25            0.305397\n",
      "2         1.50            0.336680\n",
      "3         1.75            0.369463\n",
      "4         2.00            0.403496\n",
      "5         2.25            0.438484\n",
      "6         2.50            0.474094\n",
      "7         2.75            0.509970\n",
      "8         3.00            0.545744\n",
      "9         3.25            0.581051\n",
      "10        3.50            0.615548\n",
      "11        3.75            0.648920\n",
      "12        4.00            0.680897\n",
      "13        4.25            0.711258\n",
      "14        4.50            0.739833\n",
      "15        4.75            0.766509\n",
      "16        5.00            0.791222\n"
     ]
    }
   ],
   "source": [
    "print(prediction_data)"
   ]
  },
  {
   "cell_type": "code",
   "execution_count": 38,
   "metadata": {
    "id": "h_zCc9v5XTcL"
   },
   "outputs": [],
   "source": [
    "#Assigning the prediction table to an object pred_1\n",
    "pred_1 = pd.DataFrame(prediction_data)"
   ]
  },
  {
   "cell_type": "code",
   "execution_count": 39,
   "metadata": {
    "id": "FQ2Omr04VxGs"
   },
   "outputs": [],
   "source": [
    "#To write prediction table in csv format\n",
    "pred_1.to_csv('pred_1.csv')"
   ]
  },
  {
   "cell_type": "code",
   "execution_count": 41,
   "metadata": {
    "colab": {
     "base_uri": "https://localhost:8080/",
     "height": 280
    },
    "id": "7jeYwh5n9Fe4",
    "outputId": "49ce2fbb-ea6d-4753-b0c6-c62e003011ba"
   },
   "outputs": [
    {
     "data": {
      "image/png": "[encoded data removed]",
      "text/plain": [
       "<Figure size 432x288 with 1 Axes>"
      ]
     },
     "metadata": {
      "needs_background": "light"
     },
     "output_type": "display_data"
    }
   ],
   "source": [
    "##Adding point predictions (red dots) on the regplot (blue line)\n",
    "sns.regplot(x = \"value_mean\", y = \"health_binary_Good\", data = issp_logit, ci = None, logistic=True )\n",
    "sns.scatterplot(x = \"value_mean\", y = \"health_binary_Good\", data = prediction_data, color = \"red\", marker='s')\n",
    "\n",
    "plt.show()"
   ]
  },
  {
   "cell_type": "markdown",
   "metadata": {},
   "source": [
    "# ***# Work value and health for CHINA***"
   ]
  },
  {
   "cell_type": "code",
   "execution_count": null,
   "metadata": {},
   "outputs": [],
   "source": []
  }
 ],
 "metadata": {
  "colab": {
   "name": "work_logit",
   "provenance": []
  },
  "kernelspec": {
   "display_name": "Python 3",
   "language": "python",
   "name": "python3"
  },
  "language_info": {
   "codemirror_mode": {
    "name": "ipython",
    "version": 3
   },
   "file_extension": ".py",
   "mimetype": "text/x-python",
   "name": "python",
   "nbconvert_exporter": "python",
   "pygments_lexer": "ipython3",
   "version": "3.8.3"
  }
 },
 "nbformat": 4,
 "nbformat_minor": 1
}
